# My first markdown file
hey, i am Antarik trying to learn and change my career to data science engineer

## list of  data science languages
python, scala, R

## Data science libraries 
pandas, scikit-learn, numpy

## 📊 Data Science Tools Overview

| Category                  | Tool / Platform         | Description                                              |
|---------------------------|--------------------------|----------------------------------------------------------|
| **Data Manipulation**     | pandas (Python)          | Powerful DataFrame library for tabular data              |
|                           | dplyr (R)                | Data manipulation using grammar of data                  |
| **Numerical Computing**   | numpy (Python)           | Support for large, multi-dimensional arrays and matrices |
|                           | MATLAB                   | Matrix-based numerical computing environment             |
| **Data Visualization**    | matplotlib (Python)      | Basic plotting and charting                              |
|                           | seaborn (Python)         | Statistical visualizations built on matplotlib           |
|                           | ggplot2 (R)              | Elegant graphics for data analysis                       |
| **Machine Learning**      | scikit-learn (Python)    | General-purpose ML library                               |
|                           | XGBoost, LightGBM        | Gradient boosting frameworks                             |
|                           | caret (R)                | ML training and evaluation toolkit                       |
| **Deep Learning**         | TensorFlow (Python)      | End-to-end deep learning platform by Google              |
|                           | PyTorch (Python)         | Flexible deep learning library by Meta                   |
| **Big Data Tools**        | Apache Spark / PySpark   | Distributed big data processing                          |
|                           | Dask (Python)            | Parallel computing for larger-than-memory data           |
| **NLP Libraries**         | spaCy, NLTK, transformers| Natural Language Processing                              |
| **Web Scraping**          | BeautifulSoup, requests  | Extracting data from websites                            |
| **Data Platforms**        | Jupyter Notebook         | Interactive coding and visualization environment         |
|                           | Google Colab             | Cloud-based Jupyter with GPU access                      |

## ➕ Introduction to Arithmetic Expressions in Python

Arithmetic expressions are used to perform mathematical operations in Python. These include addition, subtraction, multiplication, division, and more.

### 🧮 Common Arithmetic Operators:

| Operator | Description       | Example       | Result |
|----------|-------------------|---------------|--------|
| `+`      | Addition           | `5 + 3`       | `8`    |
| `-`      | Subtraction        | `10 - 4`      | `6`    |
| `*`      | Multiplication     | `6 * 7`       | `42`   |
| `/`      | Division           | `20 / 4`      | `5.0`  |
| `//`     | Floor Division     | `20 // 3`     | `6`    |
| `%`      | Modulus (Remainder)| `10 % 3`      | `1`    |
| `**`     | Exponentiation     | `2 ** 3`      | `8`    |

## Code to multiply and add numbers

a = 5
b = 3
c = 2

result = (a * b) + c

print("The result of (a * b) + c is:", result)

## Code to convert minutes to hours

a = input("Enter minutes that needs to be converted to hours")

b = a/60

print(b)

### Objectives

- Understand basic arithmetic operations in Python  
- Explore commonly used Data Science tools and libraries  
- Learn how to create and format markdown and code cells in Jupyter Notebook  
- Practice writing and executing Python code  
- Gain familiarity with asynchronous programming and HTTP requests using `aiohttp`

**Author:** Antarik Dutt


